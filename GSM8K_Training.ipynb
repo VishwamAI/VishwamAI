{
 "cells": [
  {
   "cell_type": "markdown",
   "metadata": {
    "id": "overview"
   },
   "source": [
    "# Training VishwamAI on GSM8K Dataset\n",
    "\n",
    "[![Open In Colab](https://colab.research.google.com/assets/colab-badge.svg)](https://colab.research.google.com/github/VishwamAI/VishwamAI/blob/main/GSM8K_Training.ipynb)\n",
    "\n",
    "This notebook demonstrates how to train VishwamAI's MoE-MLA model on the GSM8K (Grade School Math 8K) dataset using TPUs."
   ]
  },
  {
   "cell_type": "markdown",
   "metadata": {
    "id": "setup"
   },
   "source": [
    "## Setup\n",
    "\n",
    "First, we'll install the required packages and clone the repository:"
   ]
  },
  {
   "cell_type": "code",
   "execution_count": null,
   "metadata": {
    "id": "install_deps"
   },
   "source": [
    "!pip install torch_xla\n",
    "!pip install transformers datasets accelerate wandb\n",
    "!git clone https://github.com/VishwamAI/VishwamAI.git\n",
    "!cd VishwamAI && pip install -e ."
   ]
  },
  {
   "cell_type": "code",
   "execution_count": null,
   "metadata": {
    "id": "imports"
   },
   "source": [
    "import os\n",
    "import torch\n",
    "import torch_xla\n",
    "import torch_xla.core.xla_model as xm\n",
    "from datasets import load_dataset\n",
    "import wandb\n",
    "\n",
    "from vishwamai.model.transformer import create_transformer_model, get_pretrained_config\n",
    "from vishwamai.data.dataset.implementations.gsm8k import GSM8KDataset\n",
    "from vishwamai.training.distributed import tpu_utils"
   ]
  },
  {
   "cell_type": "markdown",
   "metadata": {
    "id": "tpu_setup"
   },
   "source": [
    "## TPU Setup\n",
    "\n",
    "Configure TPU device and load training settings:"
   ]
  },
  {
   "cell_type": "code",
   "execution_count": null,
   "metadata": {
    "id": "configure_tpu"
   },
   "source": [
    "# Load TPU configuration\n",
    "tpu_config = tpu_utils.load_tpu_config(\"vishwamai/configs/tpu_config.yaml\")\n",
    "\n",
    "# Initialize TPU\n",
    "device, local_rank, world_size = tpu_utils.setup_tpu(tpu_config)\n",
    "print(f\"TPU initialized with {world_size} cores\")"
   ]
  },
  {
   "cell_type": "markdown",
   "metadata": {
    "id": "data_loading"
   },
   "source": [
    "## Load and Process Data\n",
    "\n",
    "Load the GSM8K dataset and prepare it for training:"
   ]
  },
  {
   "cell_type": "code",
   "execution_count": null,
   "metadata": {
    "id": "load_data"
   },
   "source": [
    "# Load dataset\n",
    "dataset = load_dataset(\"openai/gsm8k\", \"main\")\n",
    "print(f\"Train size: {len(dataset['train'])}\")\n",
    "print(f\"Test size: {len(dataset['test'])}\")\n",
    "\n",
    "# Show sample\n",
    "print(\"\\nSample question:\")\n",
    "print(dataset['train'][0]['question'])\n",
    "print(\"\\nSample answer:\")\n",
    "print(dataset['train'][0]['answer'])"
   ]
  },
  {
   "cell_type": "markdown",
   "metadata": {
    "id": "model_init"
   },
   "source": [
    "## Initialize Model\n",
    "\n",
    "Create the MoE-MLA model with TPU optimizations:"
   ]
  },
  {
   "cell_type": "code",
   "execution_count": null,
   "metadata": {
    "id": "create_model"
   },
   "source": [
    "# Get model configuration\n",
    "config = get_pretrained_config(\n",
    "    model_size=\"base\",\n",
    "    model_type=\"moe_mla_transformer\"\n",
    ")\n",
    "\n",
    "# Create model and move to TPU\n",
    "model = create_transformer_model(config).to(device)\n",
    "\n",
    "# Apply TPU optimizations\n",
    "model = tpu_utils.optimize_tpu_execution(model, tpu_config)"
   ]
  },
  {
   "cell_type": "markdown",
   "metadata": {
    "id": "training_setup"
   },
   "source": [
    "## Training Configuration\n",
    "\n",
    "Set up training parameters and optimization:"
   ]
  },
  {
   "cell_type": "code",
   "execution_count": null,
   "metadata": {
    "id": "training_config"
   },
   "source": [
    "# Initialize wandb\n",
    "if local_rank == 0:\n",
    "    wandb.init(project=\"vishwamai-gsm8k\")\n",
    "\n",
    "# Training parameters\n",
    "training_args = {\n",
    "    \"num_train_epochs\": 3,\n",
    "    \"per_device_train_batch_size\": 8,\n",
    "    \"gradient_accumulation_steps\": 4,\n",
    "    \"learning_rate\": 5e-4,\n",
    "    \"weight_decay\": 0.01,\n",
    "    \"warmup_steps\": 500,\n",
    "    \"max_grad_norm\": 1.0,\n",
    "    \"use_bf16\": True\n",
    "}"
   ]
  },
  {
   "cell_type": "markdown",
   "metadata": {
    "id": "training"
   },
   "source": [
    "## Training Loop\n",
    "\n",
    "Train the model on GSM8K dataset:"
   ]
  },
  {
   "cell_type": "code",
   "execution_count": null,
   "metadata": {
    "id": "train_model"
   },
   "source": [
    "def train_epoch(model, dataloader, optimizer, scheduler):\n",
    "    model.train()\n",
    "    total_loss = 0\n",
    "    \n",
    "    for step, batch in enumerate(dataloader):\n",
    "        # Move batch to TPU\n",
    "        batch = {k: v.to(device) for k, v in batch.items()}\n",
    "        \n",
    "        # Forward pass\n",
    "        outputs = model(**batch)\n",
    "        loss = outputs[\"loss\"]\n",
    "        \n",
    "        # Backward pass\n",
    "        loss = loss / training_args[\"gradient_accumulation_steps\"]\n",
    "        loss.backward()\n",
    "        \n",
    "        # Update weights\n",
    "        if (step + 1) % training_args[\"gradient_accumulation_steps\"] == 0:\n",
    "            torch.nn.utils.clip_grad_norm_(model.parameters(), training_args[\"max_grad_norm\"])\n",
    "            optimizer.step()\n",
    "            scheduler.step()\n",
    "            optimizer.zero_grad()\n",
    "            \n",
    "            # TPU barrier\n",
    "            xm.mark_step()\n",
    "        \n",
    "        total_loss += loss.item()\n",
    "        \n",
    "        if step % 100 == 0 and local_rank == 0:\n",
    "            wandb.log({\"train_loss\": loss.item()})\n",
    "            \n",
    "    return total_loss / len(dataloader)\n",
    "\n",
    "# Start training\n",
    "for epoch in range(training_args[\"num_train_epochs\"]):\n",
    "    loss = train_epoch(model, train_dataloader, optimizer, scheduler)\n",
    "    \n",
    "    if local_rank == 0:\n",
    "        print(f\"Epoch {epoch + 1}, Loss: {loss:.4f}\")\n",
    "        \n",
    "        # Save checkpoint\n",
    "        checkpoint = {\n",
    "            \"model_state_dict\": model.state_dict(),\n",
    "            \"optimizer_state_dict\": optimizer.state_dict(),\n",
    "            \"epoch\": epoch,\n",
    "            \"loss\": loss\n",
    "        }\n",
    "        torch.save(checkpoint, f\"gsm8k_checkpoint_epoch_{epoch+1}.pt\")"
   ]
  },
  {
   "cell_type": "markdown",
   "metadata": {
    "id": "evaluation"
   },
   "source": [
    "## Evaluation\n",
    "\n",
    "Test the trained model on GSM8K test set:"
   ]
  },
  {
   "cell_type": "code",
   "execution_count": null,
   "metadata": {
    "id": "evaluate_model"
   },
   "source": [
    "def evaluate_sample(question):\n",
    "    \"\"\"Generate answer for a sample question.\"\"\"\n",
    "    model.eval()\n",
    "    with torch.no_grad():\n",
    "        input_text = f\"Question: {question}\\nLet's solve this step by step:\\n\"\n",
    "        inputs = tokenizer(input_text, return_tensors=\"pt\").to(device)\n",
    "        \n",
    "        outputs = model.generate(\n",
    "            **inputs,\n",
    "            max_length=200,\n",
    "            num_beams=4,\n",
    "            temperature=0.7,\n",
    "            pad_token_id=tokenizer.pad_token_id\n",
    "        )\n",
    "        \n",
    "        return tokenizer.decode(outputs[0], skip_special_tokens=True)\n",
    "\n",
    "# Test with sample questions\n",
    "test_questions = [\n",
    "    dataset['test'][0]['question'],\n",
    "    dataset['test'][1]['question']\n",
    "]\n",
    "\n",
    "for question in test_questions:\n",
    "    print(\"Question:\", question)\n",
    "    print(\"\\nGenerated Answer:\")\n",
    "    print(evaluate_sample(question))\n",
    "    print(\"\\n---\\n\")"
   ]
  },
  {
   "cell_type": "markdown",
   "metadata": {
    "id": "model_upload"
   },
   "source": [
    "## Upload to HuggingFace Hub\n",
    "\n",
    "Save and upload the trained model:"
   ]
  },
  {
   "cell_type": "code",
   "execution_count": null,
   "metadata": {
    "id": "save_model"
   },
   "source": [
    "from huggingface_hub import HfApi\n",
    "\n",
    "# Save model locally\n",
    "model_path = \"gsm8k_trained_model\"\n",
    "model.save_pretrained(model_path)\n",
    "tokenizer.save_pretrained(model_path)\n",
    "\n",
    "# Upload to HuggingFace\n",
    "api = HfApi()\n",
    "api.upload_folder(\n",
    "    folder_path=model_path,\n",
    "    repo_id=\"VishwamAI/VishwamAI\",\n",
    "    repo_type=\"model\"\n",
    ")"
   ]
  }
 ],
 "metadata": {
  "accelerator": "TPU",
  "colab": {
   "name": "GSM8K_Training.ipynb",
   "provenance": []
  },
  "kernelspec": {
   "display_name": "Python 3",
   "language": "python",
   "name": "python3"
  },
  "language_info": {
   "codemirror_mode": {
    "name": "ipython",
    "version": 3
   },
   "file_extension": ".py",
   "mimetype": "text/x-python",
   "name": "python",
   "nbconvert_exporter": "python",
   "pygments_lexer": "ipython3",
   "version": "3.10.0"
  }
 },
 "nbformat": 4,
 "nbformat_minor": 4
}
