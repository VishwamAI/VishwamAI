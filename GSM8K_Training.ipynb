{
 "cells": [
  {
   "cell_type": "markdown",
   "metadata": {},
   "source": [
    "# Training VishwamAI on GSM8K Dataset\n",
    "\n",
    "[![Open In Colab](https://colab.research.google.com/assets/colab-badge.svg)](https://colab.research.google.com/github/VishwamAI/VishwamAI/blob/main/GSM8K_Training.ipynb)\n",
    "\n",
    "This notebook demonstrates training on the GSM8K dataset using TPUs."
   ]
  },
  {
   "cell_type": "markdown",
   "metadata": {},
   "source": [
    "## Setup\n",
    "\n",
    "First, install dependencies and VishwamAI package:"
   ]
  },
  {
   "cell_type": "code",
   "execution_count": null,
   "metadata": {},
   "source": [
    "# Uninstall regular tensorflow to avoid conflicts\n",
    "!pip uninstall -y tensorflow\n",
    "!pip install tensorflow-cpu\n",
    "\n",
    "# Install PyTorch/XLA and other dependencies\n",
    "!pip install torch==2.0.0 'torch_xla[tpu]>=2.0' -f https://storage.googleapis.com/tpu-pytorch/wheels/tpuvm/torch_xla-2.0-cp39-cp39-linux_x86_64.whl\n",
    "!pip install transformers datasets accelerate wandb sentencepiece\n",
    "\n",
    "# Clone and install VishwamAI\n",
    "!git clone https://github.com/VishwamAI/VishwamAI.git\n",
    "!cd VishwamAI && pip install -e .\n",
    "\n",
    "# Restart runtime to apply changes\n",
    "import IPython\n",
    "IPython.Application.instance().kernel.do_shutdown(True)"
   ]
  },
  {
   "cell_type": "code",
   "execution_count": null,
   "metadata": {},
   "source": [
    "# Verify installation\n",
    "import torch\n",
    "import torch_xla\n",
    "import torch_xla.core.xla_model as xm\n",
    "print(f\"PyTorch version: {torch.__version__}\")\n",
    "print(f\"PyTorch/XLA version: {torch_xla.__version__}\")"
   ]
  },
  {
   "cell_type": "markdown",
   "metadata": {},
   "source": [
    "## Import Libraries"
   ]
  },
  {
   "cell_type": "code",
   "execution_count": null,
   "metadata": {},
   "source": [
    "import os\n",
    "import torch\n",
    "import numpy as np\n",
    "from datasets import load_dataset\n",
    "import wandb\n",
    "\n",
    "# Import VishwamAI modules\n",
    "from vishwamai.model.transformer import create_transformer_model, get_pretrained_config\n",
    "from vishwamai.data.dataset.implementations.gsm8k import GSM8KDataset\n",
    "from vishwamai.training.distributed import tpu_utils"
   ]
  },
  {
   "cell_type": "markdown",
   "metadata": {},
   "source": [
    "## Configure TPU"
   ]
  },
  {
   "cell_type": "code",
   "execution_count": null,
   "metadata": {},
   "source": [
    "# Load TPU configuration\n",
    "tpu_config = tpu_utils.load_tpu_config(\"vishwamai/configs/tpu_config.yaml\")\n",
    "\n",
    "# Initialize TPU\n",
    "device = xm.xla_device()\n",
    "rank = xm.get_ordinal()\n",
    "world_size = xm.xrt_world_size()\n",
    "\n",
    "print(f\"Using TPU with {world_size} cores\")\n",
    "print(f\"Local rank: {rank}\")"
   ]
  },
  {
   "cell_type": "markdown",
   "metadata": {},
   "source": [
    "## Load Dataset"
   ]
  },
  {
   "cell_type": "code",
   "execution_count": null,
   "metadata": {},
   "source": [
    "# Load GSM8K dataset\n",
    "dataset = load_dataset(\"openai/gsm8k\", \"main\")\n",
    "print(f\"Train size: {len(dataset['train'])}\")\n",
    "print(f\"Test size: {len(dataset['test'])}\")\n",
    "\n",
    "# Sample example\n",
    "print(\"\\nSample question:\")\n",
    "print(dataset['train'][0]['question'])\n",
    "print(\"\\nSample answer:\")\n",
    "print(dataset['train'][0]['answer'])"
   ]
  },
  {
   "cell_type": "markdown",
   "metadata": {},
   "source": [
    "## Initialize Model"
   ]
  },
  {
   "cell_type": "code",
   "execution_count": null,
   "metadata": {},
   "source": [
    "# Model configuration\n",
    "config = get_pretrained_config(\n",
    "    model_size=\"base\",\n",
    "    model_type=\"moe_mla_transformer\"\n",
    ")\n",
    "\n",
    "# Create model\n",
    "model = create_transformer_model(config)\n",
    "\n",
    "# Move to TPU and optimize\n",
    "model = model.to(device)\n",
    "model = tpu_utils.optimize_tpu_execution(model, tpu_config)"
   ]
  },
  {
   "cell_type": "markdown",
   "metadata": {},
   "source": [
    "## Training Setup"
   ]
  },
  {
   "cell_type": "code",
   "execution_count": null,
   "metadata": {},
   "source": [
    "# Initialize wandb\n",
    "if rank == 0:\n",
    "    wandb.init(project=\"vishwamai-gsm8k\")\n",
    "\n",
    "# Training parameters\n",
    "training_args = {\n",
    "    \"num_train_epochs\": 3,\n",
    "    \"per_device_train_batch_size\": 8,\n",
    "    \"gradient_accumulation_steps\": 4,\n",
    "    \"learning_rate\": 5e-4,\n",
    "    \"weight_decay\": 0.01,\n",
    "    \"warmup_steps\": 500,\n",
    "    \"max_grad_norm\": 1.0\n",
    "}\n",
    "\n",
    "# Initialize optimizer and scheduler\n",
    "optimizer = torch.optim.AdamW(model.parameters(), lr=training_args[\"learning_rate\"])\n",
    "scheduler = torch.optim.lr_scheduler.LinearLR(optimizer, total_iters=training_args[\"warmup_steps\"])"
   ]
  },
  {
   "cell_type": "markdown",
   "metadata": {},
   "source": [
    "## Training Loop"
   ]
  },
  {
   "cell_type": "code",
   "execution_count": null,
   "metadata": {},
   "source": [
    "def train_step(model, batch, optimizer, scheduler):\n",
    "    \"\"\"Single training step.\"\"\"\n",
    "    # Forward pass\n",
    "    outputs = model(**batch)\n",
    "    loss = outputs[\"loss\"]\n",
    "    \n",
    "    # Backward pass\n",
    "    loss = loss / training_args[\"gradient_accumulation_steps\"]\n",
    "    loss.backward()\n",
    "    \n",
    "    # Update\n",
    "    optimizer.step()\n",
    "    scheduler.step()\n",
    "    optimizer.zero_grad()\n",
    "    \n",
    "    # TPU sync\n",
    "    xm.mark_step()\n",
    "    \n",
    "    return loss.item()\n",
    "\n",
    "# Training loop\n",
    "for epoch in range(training_args[\"num_train_epochs\"]):\n",
    "    model.train()\n",
    "    total_loss = 0\n",
    "    \n",
    "    for step, batch in enumerate(train_dataloader):\n",
    "        loss = train_step(model, batch, optimizer, scheduler)\n",
    "        total_loss += loss\n",
    "        \n",
    "        if step % 100 == 0 and rank == 0:\n",
    "            print(f\"Epoch {epoch}, Step {step}, Loss: {loss:.4f}\")\n",
    "            wandb.log({\"loss\": loss})\n",
    "            \n",
    "    # Save checkpoint\n",
    "    if rank == 0:\n",
    "        checkpoint = {\n",
    "            \"model_state_dict\": model.state_dict(),\n",
    "            \"optimizer_state_dict\": optimizer.state_dict(),\n",
    "            \"epoch\": epoch\n",
    "        }\n",
    "        torch.save(checkpoint, f\"gsm8k_checkpoint_epoch_{epoch+1}.pt\")"
   ]
  },
  {
   "cell_type": "markdown",
   "metadata": {},
   "source": [
    "## Evaluation"
   ]
  },
  {
   "cell_type": "code",
   "execution_count": null,
   "metadata": {},
   "source": [
    "def evaluate():\n",
    "    \"\"\"Evaluate model on test set.\"\"\"\n",
    "    model.eval()\n",
    "    total_loss = 0\n",
    "    \n",
    "    with torch.no_grad():\n",
    "        for batch in test_dataloader:\n",
    "            outputs = model(**batch)\n",
    "            total_loss += outputs[\"loss\"].item()\n",
    "            \n",
    "    return total_loss / len(test_dataloader)\n",
    "\n",
    "# Run evaluation\n",
    "test_loss = evaluate()\n",
    "if rank == 0:\n",
    "    print(f\"Test Loss: {test_loss:.4f}\")\n",
    "    wandb.log({\"test_loss\": test_loss})"
   ]
  },
  {
   "cell_type": "markdown",
   "metadata": {},
   "source": [
    "## Upload to HuggingFace"
   ]
  },
  {
   "cell_type": "code",
   "execution_count": null,
   "metadata": {},
   "source": [
    "from huggingface_hub import HfApi\n",
    "\n",
    "if rank == 0:\n",
    "    # Save final model\n",
    "    model_path = \"gsm8k_trained_model\"\n",
    "    model.save_pretrained(model_path)\n",
    "    tokenizer.save_pretrained(model_path)\n",
    "    \n",
    "    # Upload to HuggingFace\n",
    "    api = HfApi()\n",
    "    api.upload_folder(\n",
    "        folder_path=model_path,\n",
    "        repo_id=\"VishwamAI/VishwamAI\",\n",
    "        repo_type=\"model\"\n",
    "    )"
   ]
  }
 ],
 "metadata": {
  "accelerator": "TPU",
  "colab": {
   "name": "GSM8K_Training.ipynb",
   "provenance": []
  },
  "kernelspec": {
   "display_name": "Python 3",
   "language": "python",
   "name": "python3"
  },
  "language_info": {
   "name": "python",
   "version": "3.9.0"
  }
 },
 "nbformat": 4,
 "nbformat_minor": 4
}
