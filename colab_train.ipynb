{
 "cells": [
  {
   "cell_type": "markdown",
   "metadata": {},
   "source": [
    "# VishwamAI Fine-tuning on Google Colab\n",
    "\n",
    "This notebook provides a simplified interface for fine-tuning VishwamAI on your specific task."
   ]
  },
  {
   "cell_type": "code",
   "execution_count": null,
   "metadata": {},
   "outputs": [],
   "source": [
    "# Verify GPU\n",
    "!nvidia-smi\n",
    "\n",
    "# Install dependencies\n",
    "!pip install torch==2.4.1 torchvision torchaudio --index-url https://download.pytorch.org/whl/cu118\n",
    "!pip install transformers==4.34.0 datasets accelerate\n",
    "\n",
    "# Clone repository\n",
    "!git clone https://github.com/VishwamAI/VishwamAI.git\n",
    "%cd VishwamAI\n",
    "!pip install -r requirements.txt"
   ]
  },
  {
   "cell_type": "code",
   "execution_count": null,
   "metadata": {},
   "outputs": [],
   "source": [
    "import torch\n",
    "import json\n",
    "from transformers import TrainingArguments\n",
    "from datasets import load_dataset\n",
    "from vishwamai.model_utils import load_model, get_gpu_memory\n",
    "\n",
    "# Check GPU setup\n",
    "gpu_name = torch.cuda.get_device_name(0)\n",
    "gpu_memory = get_gpu_memory()\n",
    "print(f\"Using GPU: {gpu_name} ({gpu_memory:.1f} GB)\")\n",
    "\n",
    "# Determine optimal configuration\n",
    "if 'a100' in gpu_name.lower():\n",
    "    gpu_type = 'A100_optimized'\n",
    "elif 'v100' in gpu_name.lower():\n",
    "    gpu_type = 'V100_optimized'\n",
    "else:\n",
    "    gpu_type = 'T4_optimized'\n",
    "\n",
    "print(f\"Using configuration: {gpu_type}\")"
   ]
  },
  {
   "cell_type": "code",
   "execution_count": null,
   "metadata": {},
   "outputs": [],
   "source": [
    "# Load configuration\n",
    "config_path = \"configs/config_optimized.json\"\n",
    "with open(config_path) as f:\n",
    "    config = json.load(f)\n",
    "\n",
    "# Update with GPU-specific settings\n",
    "gpu_config = config['colab_specific'][gpu_type]\n",
    "config['model_config'].update({\n",
    "    'dim': gpu_config['dim'],\n",
    "    'batch_size': gpu_config['batch_size'],\n",
    "    'max_seq_len': gpu_config['max_seq_len']\n",
    "})\n",
    "\n",
    "print(\"Model configuration:\")\n",
    "print(json.dumps(config['model_config'], indent=2))"
   ]
  },
  {
   "cell_type": "code",
   "execution_count": null,
   "metadata": {},
   "outputs": [],
   "source": [
    "# Load base model\n",
    "model = load_model(\n",
    "    config_path=config_path,\n",
    "    device=\"cuda\",\n",
    "    use_cache=False  # Better memory efficiency for training\n",
    ")\n",
    "\n",
    "print(f\"Model loaded with {sum(p.numel() for p in model.parameters())/1e6:.1f}M parameters\")"
   ]
  },
  {
   "cell_type": "code",
   "execution_count": null,
   "metadata": {},
   "outputs": [],
   "source": [
    "# Load datasets - modify these for your specific task\n",
    "train_dataset = load_dataset(\"gsm8k\", split=\"train\")\n",
    "eval_dataset = load_dataset(\"cais/mmlu\", split=\"validation\")\n",
    "\n",
    "print(f\"Training examples: {len(train_dataset)}\")\n",
    "print(f\"Evaluation examples: {len(eval_dataset)}\")"
   ]
  },
  {
   "cell_type": "code",
   "execution_count": null,
   "metadata": {},
   "outputs": [],
   "source": [
    "# Configure training\n",
    "output_dir = \"./finetune_output\"\n",
    "!mkdir -p $output_dir\n",
    "\n",
    "training_args = TrainingArguments(\n",
    "    output_dir=output_dir,\n",
    "    num_train_epochs=3,\n",
    "    per_device_train_batch_size=gpu_config['batch_size'],\n",
    "    per_device_eval_batch_size=gpu_config['batch_size'],\n",
    "    gradient_accumulation_steps=gpu_config['gradient_accumulation'],\n",
    "    learning_rate=2e-5,\n",
    "    weight_decay=0.01,\n",
    "    warmup_steps=100,\n",
    "    logging_steps=10,\n",
    "    save_strategy=\"steps\",\n",
    "    save_steps=100,\n",
    "    evaluation_strategy=\"steps\",\n",
    "    eval_steps=100,\n",
    "    fp16=True,\n",
    "    gradient_checkpointing=True\n",
    ")"
   ]
  },
  {
   "cell_type": "code",
   "execution_count": null,
   "metadata": {},
   "outputs": [],
   "source": [
    "# Initialize trainer\n",
    "from transformers import Trainer\n",
    "\n",
    "trainer = Trainer(\n",
    "    model=model,\n",
    "    args=training_args,\n",
    "    train_dataset=train_dataset,\n",
    "    eval_dataset=eval_dataset\n",
    ")\n",
    "\n",
    "# Start training\n",
    "trainer.train()"
   ]
  },
  {
   "cell_type": "code",
   "execution_count": null,
   "metadata": {},
   "outputs": [],
   "source": [
    "# Save model\n",
    "model_save_path = \"final_model\"\n",
    "trainer.save_model(model_save_path)\n",
    "print(f\"Model saved to {model_save_path}\")\n",
    "\n",
    "# Test loading\n",
    "test_model = load_model(\n",
    "    config_path=config_path,\n",
    "    device=\"cuda\",\n",
    "    pretrained_path=model_save_path\n",
    ")\n",
    "print(\"Model loaded successfully\")\n",
    "\n",
    "# Quick test\n",
    "test_input = torch.randint(0, model.args.vocab_size, (1, 128)).cuda()\n",
    "with torch.inference_mode():\n",
    "    output = test_model(test_input)\n",
    "print(f\"Test output shape: {output.shape}\")"
   ]
  }
 ],
 "metadata": {
  "accelerator": "GPU",
  "colab": {
   "gpuType": "T4",
   "provenance": []
  },
  "kernelspec": {
   "display_name": "Python 3",
   "language": "python",
   "name": "python3"
  }
 },
 "nbformat": 4,
 "nbformat_minor": 2
}
