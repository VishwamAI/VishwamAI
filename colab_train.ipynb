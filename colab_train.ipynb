{
 "cells": [
  {
   "cell_type": "markdown",
   "metadata": {},
   "source": [
    "# VishwamAI Training on Google Colab\n",
    "\n",
    "This notebook provides a simplified interface for training VishwamAI with optimized GPU settings."
   ]
  },
  {
   "cell_type": "code",
   "execution_count": null,
   "metadata": {},
   "source": [
    "# Verify GPU\n",
    "!nvidia-smi\n",
    "\n",
    "# Install core dependencies\n",
    "!pip install torch==2.4.1 torchvision torchaudio --index-url https://download.pytorch.org/whl/cu118\n",
    "!pip install transformers==4.34.0 datasets accelerate\n",
    "\n",
    "# Clone repository\n",
    "!git clone https://github.com/kasinadhsarma/VishwamAI.git\n",
    "%cd VishwamAI\n",
    "!pip install -e ."
   ]
  },
  {
   "cell_type": "code",
   "execution_count": null,
   "metadata": {},
   "source": [
    "import torch\n",
    "from vishwamai.examples.train_model import setup_training\n",
    "from transformers import Trainer\n",
    "\n",
    "# Auto-detect GPU type\n",
    "gpu_name = torch.cuda.get_device_name(0).lower()\n",
    "if 'a100' in gpu_name:\n",
    "    gpu_type = 'A100_optimized'\n",
    "elif 'v100' in gpu_name:\n",
    "    gpu_type = 'V100_optimized'\n",
    "else:\n",
    "    gpu_type = 'T4_optimized'\n",
    "\n",
    "print(f\"Detected GPU: {gpu_name}\")\n",
    "print(f\"Using configuration: {gpu_type}\")"
   ]
  },
  {
   "cell_type": "code",
   "execution_count": null,
   "metadata": {},
   "source": [
    "# Training Configuration\n",
    "class Args:\n",
    "    def __init__(self):\n",
    "        self.config_path = \"configs/config_optimized.json\"\n",
    "        self.train_dataset = \"gsm8k\"\n",
    "        self.eval_dataset = \"cais/mmlu\"\n",
    "        self.output_dir = \"./output\"\n",
    "        self.epochs = 3\n",
    "        self.gpu_type = gpu_type\n",
    "        self.pretrained_path = None\n",
    "        self.disable_cache = False\n",
    "        self.use_wandb = False\n",
    "        self.push_to_hub = False\n",
    "        self.run_name = \"vishwamai_training\"\n",
    "\n",
    "args = Args()\n",
    "\n",
    "# Setup training environment\n",
    "model, datasets, training_args = setup_training(args)"
   ]
  },
  {
   "cell_type": "code",
   "execution_count": null,
   "metadata": {},
   "source": [
    "# Initialize trainer\n",
    "trainer = Trainer(\n",
    "    model=model,\n",
    "    args=training_args,\n",
    "    train_dataset=datasets[\"train\"],\n",
    "    eval_dataset=datasets[\"validation\"]\n",
    ")"
   ]
  },
  {
   "cell_type": "code",
   "execution_count": null,
   "metadata": {},
   "source": [
    "# Start training\n",
    "trainer.train()"
   ]
  },
  {
   "cell_type": "code",
   "execution_count": null,
   "metadata": {},
   "source": [
    "# Save trained model\n",
    "trainer.save_model(\"final_model\")"
   ]
  }
 ],
 "metadata": {
  "accelerator": "GPU",
  "colab": {
   "gpuType": "T4",
   "provenance": []
  },
  "kernelspec": {
   "display_name": "Python 3",
   "language": "python",
   "name": "python3"
  }
 }
}
