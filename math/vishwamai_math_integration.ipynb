{
 "cells": [
  {
   "cell_type": "markdown",
   "metadata": {},
   "source": [
    "# VishwamAI Math Integration\n",
    "This notebook implements math problem generation and solving capabilities using VishwamAI architecture."
   ]
  },
  {
   "cell_type": "code",
   "execution_count": 1,
   "metadata": {},
   "outputs": [],
   "source": [
    "import sys\n",
    "sys.path.append('..')\n",
    "\n",
    "import torch\n",
    "import pandas as pd\n",
    "from vishwamai.model import VishwamaiModel, VishwamaiConfig\n",
    "from vishwamai.architecture import init_model\n",
    "from vishwamai.conceptual_tokenizer import ConceptualTokenizer\n",
    "import matplotlib.pyplot as plt\n",
    "import numpy as np"
   ]
  },
  {
   "cell_type": "code",
   "execution_count": null,
   "metadata": {},
   "outputs": [],
   "source": [
    "# Initialize model configuration\n",
    "config = VishwamaiConfig(\n",
    "    vocab_size=32000,\n",
    "    hidden_size=4096,\n",
    "    num_hidden_layers=32,\n",
    "    num_attention_heads=32,\n",
    "    num_key_value_heads=8,\n",
    "    intermediate_size=16384,\n",
    "    max_position_embeddings=8192\n",
    ")\n",
    "\n",
    "# Initialize model and tokenizer\n",
    "model = init_model(config)\n",
    "tokenizer = ConceptualTokenizer()"
   ]
  },
  {
   "cell_type": "code",
   "execution_count": null,
   "metadata": {},
   "outputs": [],
   "source": [
    "# Load datasets\n",
    "def load_datasets():\n",
    "    # Load regular GSM8K dataset\n",
    "    train_data = pd.read_parquet('gsm8k/train-00000-of-00001.parquet')\n",
    "    test_data = pd.read_parquet('gsm8k/test-00000-of-00001.parquet')\n",
    "    \n",
    "    # Load Socratic version\n",
    "    socratic_train = pd.read_parquet('gsm8k/socratic/train-00000-of-00001.parquet')\n",
    "    socratic_test = pd.read_parquet('gsm8k/socratic/test-00000-of-00001.parquet')\n",
    "    \n",
    "    return train_data, test_data, socratic_train, socratic_test\n",
    "\n",
    "train_data, test_data, socratic_train, socratic_test = load_datasets()"
   ]
  },
  {
   "cell_type": "code",
   "execution_count": null,
   "metadata": {},
   "outputs": [],
   "source": [
    "class MathAI:\n",
    "    def __init__(self, model, tokenizer):\n",
    "        self.model = model\n",
    "        self.tokenizer = tokenizer\n",
    "        self.device = \"cuda\" if torch.cuda.is_available() else \"cpu\"\n",
    "        self.model.to(self.device)\n",
    "        \n",
    "    def generate_text(self, prompt, max_length=200, temperature=0.7):\n",
    "        inputs = self.tokenizer.encode(prompt, return_tensors=\"pt\").to(self.device)\n",
    "        \n",
    "        with torch.no_grad():\n",
    "            outputs = self.model.generate(\n",
    "                inputs,\n",
    "                max_length=max_length,\n",
    "                temperature=temperature,\n",
    "                do_sample=True\n",
    "            )\n",
    "            \n",
    "        return self.tokenizer.decode(outputs[0])\n",
    "    \n",
    "    def generate_problem(self, topic, difficulty):\n",
    "        prompt = f\"Generate a {difficulty} math problem about {topic}:\\n\"\n",
    "        return self.generate_text(prompt)\n",
    "    \n",
    "    def solve_problem(self, problem):\n",
    "        prompt = f\"Solve this math problem step by step:\\n{problem}\\n\\nSolution:\"\n",
    "        return self.generate_text(prompt, max_length=500, temperature=0.3)\n",
    "    \n",
    "    def socratic_solve(self, problem):\n",
    "        prompt = f\"Break down and solve this problem using the Socratic method:\\n{problem}\"\n",
    "        return self.generate_text(prompt, max_length=1000, temperature=0.3)\n",
    "\n",
    "# Initialize MathAI\n",
    "math_ai = MathAI(model, tokenizer)"
   ]
  },
  {
   "cell_type": "code",
   "execution_count": null,
   "metadata": {},
   "outputs": [],
   "source": [
    "# Training loop\n",
    "def train_epoch(model, optimizer, train_dataloader, device):\n",
    "    model.train()\n",
    "    total_loss = 0\n",
    "    for batch in train_dataloader:\n",
    "        optimizer.zero_grad()\n",
    "        inputs = batch['input_ids'].to(device)\n",
    "        labels = batch['labels'].to(device)\n",
    "        outputs = model(inputs)\n",
    "        loss = torch.nn.functional.cross_entropy(outputs.view(-1, outputs.size(-1)), labels.view(-1))\n",
    "        loss.backward()\n",
    "        optimizer.step()\n",
    "        total_loss += loss.item()\n",
    "    return total_loss / len(train_dataloader)\n",
    "\n",
    "def evaluate(model, test_dataloader, device):\n",
    "    model.eval()\n",
    "    total_loss = 0\n",
    "    with torch.no_grad():\n",
    "        for batch in test_dataloader:\n",
    "            inputs = batch['input_ids'].to(device)\n",
    "            labels = batch['labels'].to(device)\n",
    "            outputs = model(inputs)\n",
    "            loss = torch.nn.functional.cross_entropy(outputs.view(-1, outputs.size(-1)), labels.view(-1))\n",
    "            total_loss += loss.item()\n",
    "    return total_loss / len(test_dataloader)"
   ]
  },
  {
   "cell_type": "code",
   "execution_count": null,
   "metadata": {},
   "outputs": [],
   "source": [
    "# Training visualization\n",
    "def plot_training_progress(train_losses, test_losses):\n",
    "    plt.figure(figsize=(10, 6))\n",
    "    plt.plot(train_losses, label='Training Loss')\n",
    "    plt.plot(test_losses, label='Validation Loss')\n",
    "    plt.xlabel('Epoch')\n",
    "    plt.ylabel('Loss')\n",
    "    plt.title('Training Progress')\n",
    "    plt.legend()\n",
    "    plt.grid(True)\n",
    "    plt.show()"
   ]
  },
  {
   "cell_type": "code",
   "execution_count": null,
   "metadata": {},
   "outputs": [],
   "source": [
    "# Example usage\n",
    "# Generate a problem\n",
    "problem = math_ai.generate_problem(\"algebra\", \"intermediate\")\n",
    "print(\"Generated Problem:\\n\", problem)\n",
    "\n",
    "# Solve using standard approach\n",
    "solution = math_ai.solve_problem(problem)\n",
    "print(\"\\nStandard Solution:\\n\", solution)\n",
    "\n",
    "# Solve using Socratic method\n",
    "socratic_solution = math_ai.socratic_solve(problem)\n",
    "print(\"\\nSocratic Solution:\\n\", socratic_solution)"
   ]
  }
 ],
 "metadata": {
  "kernelspec": {
   "display_name": "Python 3",
   "language": "python",
   "name": "python3"
  },
  "language_info": {
   "codemirror_mode": {
    "name": "ipython",
    "version": 3
   },
   "file_extension": ".py",
   "mimetype": "text/x-python",
   "name": "python",
   "nbconvert_exporter": "python",
   "pygments_lexer": "ipython3",
   "version": "3.10.12"
  }
 },
 "nbformat": 4,
 "nbformat_minor": 4
}
