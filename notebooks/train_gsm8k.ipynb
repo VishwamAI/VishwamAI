{
 "cells": [
  {
   "cell_type": "markdown",
   "metadata": {},
   "source": [
    "# GSM8K Math Problem Training\n",
    "\n",
    "This notebook implements training on the GSM8K dataset using TPU acceleration and optimized configurations for mathematical reasoning.\n",
    "\n",
    "## Repository Setup\n",
    "\n",
    "First, let's clone the repository and prepare the environment."
   ]
  },
  {
   "cell_type": "code",
   "execution_count": null,
   "metadata": {
    "vscode": {
     "languageId": "plaintext"
    }
   },
   "outputs": [],
   "source": [
    "# Clone the repository and change directory\n",
    "!git clone https://github.com/VishwamAI/VishwamAI\n",
    "%cd VishwamAI"
   ]
  },
  {
   "cell_type": "code",
   "execution_count": null,
   "metadata": {
    "vscode": {
     "languageId": "plaintext"
    }
   },
   "outputs": [],
   "source": [
    "# Install dependencies\n",
    "!pip install -q --upgrade transformers datasets accelerate bitsandbytes sentencepiece \\\n",
    "    flax optax omegaconf huggingface-hub einops aim>=3.17.5 safetensors\n"
   ]
  }
 ],
 "metadata": {
  "kernelspec": {
   "display_name": "Python 3",
   "language": "python",
   "name": "python3"
  },
  "language_info": {
   "codemirror_mode": {
    "name": "ipython",
    "version": 3
   },
   "file_extension": ".py",
   "mimetype": "text/x-python",
   "name": "python",
   "nbconvert_exporter": "python",
   "pygments_lexer": "ipython3",
   "version": "3.8.0"
  }
 },
 "nbformat": 4,
 "nbformat_minor": 4
}
