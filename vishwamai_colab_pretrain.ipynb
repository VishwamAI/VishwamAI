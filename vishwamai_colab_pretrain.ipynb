{
 "cells": [
  {
   "cell_type": "markdown",
   "metadata": {},
   "source": [
    "# Vishwamai T4 Training on Google Colab\n",
    "\n",
    "This notebook demonstrates how to train Vishwamai models on Google Colab's T4 GPUs with optimizations."
   ]
  },
  {
   "cell_type": "markdown",
   "metadata": {},
   "source": [
    "## Setup Environment\n",
    "\n",
    "First, let's install Vishwamai and its dependencies:"
   ]
  },
  {
   "cell_type": "code",
   "execution_count": null,
   "metadata": {},
   "source": [
    "!pip install torch==2.1.0 flash-attn==2.3.0 triton==2.1.0\n",
    "!git clone https://github.com/yourusername/VishwamAI.git\n",
    "!cd VishwamAI && pip install -e ."
   ]
  },
  {
   "cell_type": "markdown",
   "metadata": {},
   "source": [
    "## Check GPU and Import Libraries"
   ]
  },
  {
   "cell_type": "code",
   "execution_count": null,
   "metadata": {},
   "source": [
    "import torch\n",
    "from vishwamai.model import (\n",
    "    create_model,\n",
    "    ModelArgs,\n",
    "    UnifiedConfig,\n",
    "    VISHWAMAI_TINY\n",
    ")\n",
    "from vishwamai.utils.t4_utils import (\n",
    "    enable_t4_optimizations,\n",
    "    get_device_capabilities,\n",
    "    get_memory_stats\n",
    ")\n",
    "\n",
    "# Check GPU availability\n",
    "print(f\"CUDA available: {torch.cuda.is_available()}\")\n",
    "print(f\"GPU device: {torch.cuda.get_device_name(0)}\")\n",
    "print(f\"\\nDevice capabilities:\")\n",
    "capabilities = get_device_capabilities()\n",
    "for k, v in capabilities.items():\n",
    "    print(f\"{k}: {v}\")"
   ]
  },
  {
   "cell_type": "markdown",
   "metadata": {},
   "source": [
    "## Enable T4 Optimizations"
   ]
  },
  {
   "cell_type": "code",
   "execution_count": null,
   "metadata": {},
   "source": [
    "# Enable optimizations\n",
    "enable_t4_optimizations()\n",
    "\n",
    "# Create optimized model configuration\n",
    "config = VISHWAMAI_TINY.update(\n",
    "    dtype=\"fp16\",\n",
    "    use_mixed_precision=True,\n",
    "    use_flash_attention=True,\n",
    "    unified=UnifiedConfig(\n",
    "        transformer=dict(\n",
    "            fused_qkv=True,\n",
    "            fused_mlp=True,\n",
    "            use_memory_efficient_attention=True\n",
    "        )\n",
    "    )\n",
    ")"
   ]
  },
  {
   "cell_type": "markdown",
   "metadata": {},
   "source": [
    "## Prepare Training Data"
   ]
  },
  {
   "cell_type": "code",
   "execution_count": null,
   "metadata": {},
   "source": [
    "from datasets import load_dataset\n",
    "from transformers import AutoTokenizer\n",
    "\n",
    "# Load wikitext dataset\n",
    "dataset = load_dataset('wikitext', 'wikitext-2-raw-v1', split='train')\n",
    "\n",
    "# Initialize tokenizer\n",
    "tokenizer = AutoTokenizer.from_pretrained('gpt2')\n",
    "tokenizer.pad_token = tokenizer.eos_token\n",
    "\n",
    "def tokenize_function(examples):\n",
    "    return tokenizer(examples['text'], truncation=True, padding='max_length', max_length=128)\n",
    "\n",
    "# Tokenize dataset\n",
    "tokenized_dataset = dataset.map(\n",
    "    tokenize_function,\n",
    "    batched=True,\n",
    "    remove_columns=dataset.column_names\n",
    ")"
   ]
  },
  {
   "cell_type": "markdown",
   "metadata": {},
   "source": [
    "## Create Model and Optimizer"
   ]
  },
  {
   "cell_type": "code",
   "execution_count": null,
   "metadata": {},
   "source": [
    "import torch.optim as optim\n",
    "from torch.cuda.amp import GradScaler\n",
    "\n",
    "# Create model\n",
    "model = create_model(config=config)\n",
    "model.to('cuda')\n",
    "\n",
    "# Setup optimizer and scaler\n",
    "optimizer = optim.AdamW(model.parameters(), lr=1e-4)\n",
    "scaler = GradScaler()\n",
    "\n",
    "print(f\"Model parameters: {sum(p.numel() for p in model.parameters()):,}\")"
   ]
  },
  {
   "cell_type": "markdown",
   "metadata": {},
   "source": [
    "## Training Loop"
   ]
  },
  {
   "cell_type": "code",
   "execution_count": null,
   "metadata": {},
   "source": [
    "from torch.utils.data import DataLoader\n",
    "from tqdm.notebook import tqdm\n",
    "import time\n",
    "\n",
    "# Training parameters\n",
    "batch_size = 32\n",
    "num_epochs = 3\n",
    "\n",
    "# Create dataloader\n",
    "train_dataloader = DataLoader(tokenized_dataset, batch_size=batch_size, shuffle=True)\n",
    "\n",
    "# Training loop\n",
    "model.train()\n",
    "for epoch in range(num_epochs):\n",
    "    print(f\"\\nEpoch {epoch+1}/{num_epochs}\")\n",
    "    \n",
    "    total_loss = 0\n",
    "    start_time = time.time()\n",
    "    \n",
    "    for batch in tqdm(train_dataloader):\n",
    "        # Move batch to GPU\n",
    "        input_ids = batch['input_ids'].to('cuda')\n",
    "        attention_mask = batch['attention_mask'].to('cuda')\n",
    "        \n",
    "        # Forward pass with mixed precision\n",
    "        with torch.cuda.amp.autocast():\n",
    "            outputs = model(\n",
    "                input_ids=input_ids,\n",
    "                attention_mask=attention_mask\n",
    "            )\n",
    "            loss = outputs['loss']\n",
    "        \n",
    "        # Backward pass with gradient scaling\n",
    "        scaler.scale(loss).backward()\n",
    "        scaler.step(optimizer)\n",
    "        scaler.update()\n",
    "        optimizer.zero_grad()\n",
    "        \n",
    "        total_loss += loss.item()\n",
    "    \n",
    "    # Print epoch statistics\n",
    "    avg_loss = total_loss / len(train_dataloader)\n",
    "    elapsed_time = time.time() - start_time\n",
    "    print(f\"Average loss: {avg_loss:.4f}\")\n",
    "    print(f\"Time taken: {elapsed_time:.2f} seconds\")\n",
    "    \n",
    "    # Print memory usage\n",
    "    memory_stats = get_memory_stats()\n",
    "    print(f\"Memory allocated: {memory_stats['allocated_gb']:.2f} GB\")\n",
    "    print(f\"Max memory allocated: {memory_stats['max_allocated_gb']:.2f} GB\")"
   ]
  },
  {
   "cell_type": "markdown",
   "metadata": {},
   "source": [
    "## Save Model"
   ]
  },
  {
   "cell_type": "code",
   "execution_count": null,
   "metadata": {},
   "source": [
    "# Save model and config\n",
    "torch.save({\n",
    "    'model_state_dict': model.state_dict(),\n",
    "    'config': config.to_dict(),\n",
    "    'optimizer_state_dict': optimizer.state_dict(),\n",
    "}, 'vishwamai_model.pt')\n",
    "\n",
    "# Save to Google Drive (optional)\n",
    "from google.colab import drive\n",
    "drive.mount('/content/drive')\n",
    "!cp vishwamai_model.pt /content/drive/MyDrive/"
   ]
  },
  {
   "cell_type": "markdown",
   "metadata": {},
   "source": [
    "## Test Model Generation"
   ]
  },
  {
   "cell_type": "code",
   "execution_count": null,
   "metadata": {},
   "source": [
    "# Test generation\n",
    "model.eval()\n",
    "prompt = \"The quick brown fox\"\n",
    "input_ids = tokenizer(prompt, return_tensors='pt').input_ids.to('cuda')\n",
    "\n",
    "with torch.no_grad():\n",
    "    outputs = model.generate(\n",
    "        input_ids,\n",
    "        max_length=50,\n",
    "        num_return_sequences=1,\n",
    "        temperature=0.7\n",
    "    )\n",
    "\n",
    "generated_text = tokenizer.decode(outputs[0], skip_special_tokens=True)\n",
    "print(\"Generated text:\\n\", generated_text)"
   ]
  },
  {
   "cell_type": "markdown",
   "metadata": {},
   "source": [
    "## Performance Analysis"
   ]
  },
  {
   "cell_type": "code",
   "execution_count": null,
   "metadata": {},
   "source": [
    "# Measure inference speed\n",
    "import time\n",
    "import numpy as np\n",
    "\n",
    "def measure_inference_time(model, input_ids, num_runs=100):\n",
    "    times = []\n",
    "    model.eval()\n",
    "    with torch.no_grad():\n",
    "        for _ in range(num_runs):\n",
    "            start = time.time()\n",
    "            _ = model(input_ids=input_ids)\n",
    "            times.append(time.time() - start)\n",
    "    return np.mean(times), np.std(times)\n",
    "\n",
    "# Test different sequence lengths\n",
    "seq_lengths = [32, 64, 128, 256, 512]\n",
    "for length in seq_lengths:\n",
    "    print(f\"\\nSequence length: {length}\")\n",
    "    dummy_input = torch.randint(0, config.vocab_size, (1, length)).cuda()\n",
    "    mean_time, std_time = measure_inference_time(model, dummy_input)\n",
    "    print(f\"Average inference time: {mean_time*1000:.2f} ms ± {std_time*1000:.2f} ms\")\n",
    "    print(f\"Tokens per second: {length/mean_time:.0f}\")"
   ]
  }
 ],
 "metadata": {
  "accelerator": "GPU",
  "colab": {
   "gpuType": "T4",
   "provenance": []
  },
  "kernelspec": {
   "display_name": "Python 3",
   "name": "python3"
  },
  "language_info": {
   "name": "python"
  }
 },
 "nbformat": 4,
 "nbformat_minor": 0
}
