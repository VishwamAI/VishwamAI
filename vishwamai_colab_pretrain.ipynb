{
 "cells": [
  {
   "cell_type": "markdown",
   "metadata": {},
   "source": [
    "# VishwamAI Pretraining on Google Colab\n",
    "\n",
    "This notebook provides pretraining setup for VishwamAI model with GPU optimizations."
   ]
  },
  {
   "cell_type": "code",
   "execution_count": null,
   "metadata": {},
   "source": [
    "# Check GPU availability\n",
    "!nvidia-smi"
   ]
  },
  {
   "cell_type": "code",
   "execution_count": null,
   "metadata": {},
   "source": [
    "# Install core dependencies\n",
    "!pip install torch==2.4.1 torchvision torchaudio --index-url https://download.pytorch.org/whl/cu118\n",
    "!pip install transformers==4.34.0 datasets accelerate\n",
    "\n",
    "# Clone repository\n",
    "!git clone https://github.com/kasinadhsarma/VishwamAI.git\n",
    "%cd VishwamAI\n",
    "!pip install -e ."
   ]
  },
  {
   "cell_type": "code",
   "execution_count": null,
   "metadata": {},
   "source": [
    "import torch\n",
    "import json\n",
    "from datasets import load_dataset\n",
    "from vishwamai.model_utils import load_model, get_gpu_memory\n",
    "\n",
    "# Check GPU setup\n",
    "gpu_name = torch.cuda.get_device_name(0)\n",
    "gpu_memory = get_gpu_memory()\n",
    "print(f\"Using GPU: {gpu_name} ({gpu_memory:.1f} GB)\")\n",
    "\n",
    "# Determine optimal configuration\n",
    "if 'a100' in gpu_name.lower():\n",
    "    gpu_type = 'A100_optimized'\n",
    "elif 'v100' in gpu_name.lower():\n",
    "    gpu_type = 'V100_optimized'\n",
    "else:\n",
    "    gpu_type = 'T4_optimized'\n",
    "\n",
    "print(f\"Using configuration: {gpu_type}\")"
   ]
  },
  {
   "cell_type": "code",
   "execution_count": null,
   "metadata": {},
   "source": [
    "# Load and customize configuration\n",
    "config_path = \"configs/config_optimized.json\"\n",
    "with open(config_path) as f:\n",
    "    config = json.load(f)\n",
    "\n",
    "# Update configuration based on GPU type\n",
    "gpu_config = config['colab_specific'][gpu_type]\n",
    "config['model_config'].update({\n",
    "    'dim': gpu_config['dim'],\n",
    "    'batch_size': gpu_config['batch_size'],\n",
    "    'max_seq_len': gpu_config['max_seq_len']\n",
    "})\n",
    "\n",
    "print(\"Model configuration:\")\n",
    "print(json.dumps(config['model_config'], indent=2))"
   ]
  },
  {
   "cell_type": "code",
   "execution_count": null,
   "metadata": {},
   "source": [
    "# Load pretrain datasets\n",
    "datasets = {\n",
    "    \"math\": load_dataset(\"gsm8k\", split=\"train\"),\n",
    "    \"reasoning\": load_dataset(\"cais/mmlu\", split=\"train\")\n",
    "}\n",
    "\n",
    "print(\"Loaded datasets:\")\n",
    "for name, dataset in datasets.items():\n",
    "    print(f\"{name}: {len(dataset)} examples\")"
   ]
  },
  {
   "cell_type": "code",
   "execution_count": null,
   "metadata": {},
   "source": [
    "# Initialize model\n",
    "model = load_model(\n",
    "    config_path=config_path,\n",
    "    device=\"cuda\",\n",
    "    use_cache=False  # Disable cache for pretraining\n",
    ")\n",
    "\n",
    "print(f\"Model parameters: {sum(p.numel() for p in model.parameters())/1e6:.1f}M\")"
   ]
  },
  {
   "cell_type": "code",
   "execution_count": null,
   "metadata": {},
   "source": [
    "# Configure training\n",
    "from transformers import TrainingArguments\n",
    "\n",
    "training_args = TrainingArguments(\n",
    "    output_dir=\"./pretrain_output\",\n",
    "    num_train_epochs=3,\n",
    "    per_device_train_batch_size=gpu_config['batch_size'],\n",
    "    gradient_accumulation_steps=gpu_config['gradient_accumulation'],\n",
    "    learning_rate=2e-5,\n",
    "    weight_decay=0.01,\n",
    "    warmup_steps=100,\n",
    "    logging_steps=10,\n",
    "    save_strategy=\"epoch\",\n",
    "    evaluation_strategy=\"epoch\",\n",
    "    fp16=True,\n",
    "    gradient_checkpointing=True\n",
    ")"
   ]
  },
  {
   "cell_type": "code",
   "execution_count": null,
   "metadata": {},
   "source": [
    "# Start pretraining\n",
    "from transformers import Trainer\n",
    "\n",
    "trainer = Trainer(\n",
    "    model=model,\n",
    "    args=training_args,\n",
    "    train_dataset=datasets[\"math\"],\n",
    "    eval_dataset=datasets[\"reasoning\"]\n",
    ")\n",
    "\n",
    "trainer.train()"
   ]
  },
  {
   "cell_type": "code",
   "execution_count": null,
   "metadata": {},
   "source": [
    "# Save pretrained model\n",
    "trainer.save_model(\"final_model\")\n",
    "print(\"Model saved to 'final_model' directory\")\n",
    "\n",
    "# Test loading saved model\n",
    "test_model = load_model(\n",
    "    config_path=config_path,\n",
    "    pretrained_path=\"final_model\",\n",
    "    device=\"cuda\"\n",
    ")\n",
    "print(\"Successfully loaded pretrained model\")"
   ]
  },
  {
   "cell_type": "code",
   "execution_count": null,
   "metadata": {},
   "source": [
    "# Verify model performance\n",
    "test_input = torch.randint(0, model.args.vocab_size, (1, 128)).cuda()\n",
    "with torch.inference_mode():\n",
    "    output = test_model(test_input)\n",
    "print(f\"Test output shape: {output.shape}\")"
   ]
  }
 ],
 "metadata": {
  "accelerator": "GPU",
  "colab": {
   "gpuType": "T4",
   "provenance": []
  },
  "kernelspec": {
   "display_name": "Python 3",
   "language": "python",
   "name": "python3"
  }
 }
}
